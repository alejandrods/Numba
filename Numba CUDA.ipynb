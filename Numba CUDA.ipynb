{
  "nbformat": 4,
  "nbformat_minor": 0,
  "metadata": {
    "colab": {
      "name": "Numba CUDA.ipynb",
      "provenance": [],
      "collapsed_sections": [],
      "include_colab_link": true
    },
    "kernelspec": {
      "name": "python3",
      "display_name": "Python 3"
    },
    "accelerator": "GPU"
  },
  "cells": [
    {
      "cell_type": "markdown",
      "metadata": {
        "id": "view-in-github",
        "colab_type": "text"
      },
      "source": [
        "<a href=\"https://colab.research.google.com/github/alejandrods/Numba/blob/master/Numba%20CUDA.ipynb\" target=\"_parent\"><img src=\"https://colab.research.google.com/assets/colab-badge.svg\" alt=\"Open In Colab\"/></a>"
      ]
    },
    {
      "cell_type": "markdown",
      "metadata": {
        "id": "1scb_lxG2iIg",
        "colab_type": "text"
      },
      "source": [
        "# Introduction CUDA (python) with Numba\n"
      ]
    },
    {
      "cell_type": "markdown",
      "metadata": {
        "id": "go4UrRwduSRN",
        "colab_type": "text"
      },
      "source": [
        "Welcome to this notebook about Numba !!\n",
        "\n",
        "Numba is a Python compiler, specifically for numerical functions and allows you to accelerate your applications with high performance functions written directly in Python.\n",
        "\n",
        "Numba generates machine code optimized from pure Python code using LLVM. With a couple of simple changes, our Python code (function-oriented) can be optimized \"just-in-time\" to obtain a performance similar to that of C, C ++, without having to change the language.\n",
        "\n",
        "## What is Numba?\n",
        "Numba is a compiler that allows you to accelerate Python code (numerical functions) for both CPU and GPU:\n",
        "\n",
        "1. Function Compiler: Numba compiles Python functions, not whole applications or parts of it. Basically, Numba is another Python module to improve the performance of our functions.\n",
        "\n",
        "2. Just-in-time: (Dynamic translation) Numba translates the bytecode (intermediate code more abstract than the machine code) to machine code immediately before its execution to improve the execution speed.\n",
        "\n",
        "3. Numerically-focused: Numba is focused on numerical data, such as `int`, `float`, `complex`. For now, there are limitations to use it with string data.\n",
        "\n",
        "Numba is not the only way to program in CUDA, it is usually programmed in C / C ++ directly for it. But Numba allows you to program directly in Python and optimize it for both CPU and GPU with few changes in our code. In relation to Python, there are other alternatives such as pyCUDA, here is a comparison between them:\n",
        "\n",
        "\n",
        "**CUDA C/C++:**\n",
        "1. It is the most common and flexible way to program in CUDA\n",
        "2. Accelerate applications in C, C ++.\n",
        "\n",
        "**pyCUDA**\n",
        "1. It is the most efficient CUDA form for Python\n",
        "2. It requires programming C in our Python code and, in general, many code modifications.\n",
        "\n",
        "<img src=\"https://images.slideplayer.com/16/5007566/slides/slide_50.jpg\" alt=\"drawing\" width=\"500\"/>\n",
        "\n",
        "**Numba**\n",
        "1. Less efficient than pyCUDA\n",
        "2. It allows you to write your code in Python and optimize it with few modifications\n",
        "3. It also optimizes the Python code for CPU\n",
        "\n"
      ]
    },
    {
      "cell_type": "markdown",
      "metadata": {
        "id": "nRMa0IN521Zp",
        "colab_type": "text"
      },
      "source": [
        "## Goals\n",
        "\n",
        "The objectives of this talk are the following:\n",
        "* Use Numba to compile functions on the CPU\n",
        "* Understand how Numba works\n",
        "* Accelerate Numpy ufuncs in GPU\n",
        "* Write Kernels using Numba (Next tutorial)\n",
        "\n",
        "\n"
      ]
    },
    {
      "cell_type": "code",
      "metadata": {
        "id": "AyeMg7YtKzOO",
        "colab_type": "code",
        "colab": {}
      },
      "source": [
        "from numba import jit\n",
        "import numpy as np\n",
        "import math"
      ],
      "execution_count": 0,
      "outputs": []
    },
    {
      "cell_type": "markdown",
      "metadata": {
        "id": "RArZFg9hLOEu",
        "colab_type": "text"
      },
      "source": [
        "# First steps: Compile for the CPU"
      ]
    },
    {
      "cell_type": "markdown",
      "metadata": {
        "id": "4UENgZmvwBYt",
        "colab_type": "text"
      },
      "source": [
        "Numba, apart from being able to speed up the functions in the GPU, can be used to optimize functions in the CPU. To do this, Python decorators (function modifiers) are used."
      ]
    },
    {
      "cell_type": "code",
      "metadata": {
        "id": "H8qzc9bXLFac",
        "colab_type": "code",
        "colab": {}
      },
      "source": [
        "@jit\n",
        "def hypot(x, y):\n",
        "  return math.sqrt(x*x + y*y)"
      ],
      "execution_count": 0,
      "outputs": []
    },
    {
      "cell_type": "markdown",
      "metadata": {
        "id": "ByJY3cjaLnD8",
        "colab_type": "text"
      },
      "source": [
        "Evaluate"
      ]
    },
    {
      "cell_type": "code",
      "metadata": {
        "id": "C5FejWESLRZY",
        "colab_type": "code",
        "outputId": "bcf5984c-4990-4a81-c9a3-16e1c8784b2f",
        "colab": {
          "base_uri": "https://localhost:8080/",
          "height": 34
        }
      },
      "source": [
        "# Numba function\n",
        "hypot(3.0, 4.0)"
      ],
      "execution_count": 0,
      "outputs": [
        {
          "output_type": "execute_result",
          "data": {
            "text/plain": [
              "5.0"
            ]
          },
          "metadata": {
            "tags": []
          },
          "execution_count": 13
        }
      ]
    },
    {
      "cell_type": "markdown",
      "metadata": {
        "id": "pulEHjdHMBOl",
        "colab_type": "text"
      },
      "source": [
        "Numba saves the original implementation of the function in `.py_func`, we can execute it and see the response times."
      ]
    },
    {
      "cell_type": "code",
      "metadata": {
        "id": "PTp1koUELn_x",
        "colab_type": "code",
        "outputId": "18b2c818-c54f-446a-d49d-2ce194f158c8",
        "colab": {
          "base_uri": "https://localhost:8080/",
          "height": 34
        }
      },
      "source": [
        "# Python function\n",
        "hypot.py_func(3.0, 4.0)"
      ],
      "execution_count": 0,
      "outputs": [
        {
          "output_type": "execute_result",
          "data": {
            "text/plain": [
              "5.0"
            ]
          },
          "metadata": {
            "tags": []
          },
          "execution_count": 14
        }
      ]
    },
    {
      "cell_type": "markdown",
      "metadata": {
        "id": "iumy4ssVMNRW",
        "colab_type": "text"
      },
      "source": [
        "#### Benchmarking"
      ]
    },
    {
      "cell_type": "markdown",
      "metadata": {
        "id": "en07FhWYMVaI",
        "colab_type": "text"
      },
      "source": [
        "Naturally, it is important to measure the performance of our code, check if Numba really works well and observe the difference between Python implementation and Numba implementation."
      ]
    },
    {
      "cell_type": "code",
      "metadata": {
        "id": "lxvY52gOMIOv",
        "colab_type": "code",
        "outputId": "b4fac6e2-3b80-4aa5-bd7e-0d8f16f46d7e",
        "colab": {
          "base_uri": "https://localhost:8080/",
          "height": 51
        }
      },
      "source": [
        "# Python function\n",
        "%timeit hypot.py_func(3.0, 4.0)"
      ],
      "execution_count": 0,
      "outputs": [
        {
          "output_type": "stream",
          "text": [
            "The slowest run took 17.62 times longer than the fastest. This could mean that an intermediate result is being cached.\n",
            "1000000 loops, best of 3: 260 ns per loop\n"
          ],
          "name": "stdout"
        }
      ]
    },
    {
      "cell_type": "code",
      "metadata": {
        "id": "Hi4GrMjZMQcM",
        "colab_type": "code",
        "outputId": "728b98e1-d22f-49ad-cd6c-15800d1b8d38",
        "colab": {
          "base_uri": "https://localhost:8080/",
          "height": 51
        }
      },
      "source": [
        "# Numba function\n",
        "%timeit hypot(3.0, 4.0)"
      ],
      "execution_count": 0,
      "outputs": [
        {
          "output_type": "stream",
          "text": [
            "The slowest run took 33.89 times longer than the fastest. This could mean that an intermediate result is being cached.\n",
            "1000000 loops, best of 3: 216 ns per loop\n"
          ],
          "name": "stdout"
        }
      ]
    },
    {
      "cell_type": "markdown",
      "metadata": {
        "id": "cam4dsk-Q2rm",
        "colab_type": "text"
      },
      "source": [
        "The library `math` already includes the `hypot` function\n"
      ]
    },
    {
      "cell_type": "code",
      "metadata": {
        "id": "9IETitbFP2RY",
        "colab_type": "code",
        "outputId": "c1665187-2fec-43d3-ee59-63c4193fa705",
        "colab": {
          "base_uri": "https://localhost:8080/",
          "height": 51
        }
      },
      "source": [
        "# math function\n",
        "%timeit math.hypot(3.0, 4.0)"
      ],
      "execution_count": 0,
      "outputs": [
        {
          "output_type": "stream",
          "text": [
            "The slowest run took 105.55 times longer than the fastest. This could mean that an intermediate result is being cached.\n",
            "10000000 loops, best of 3: 133 ns per loop\n"
          ],
          "name": "stdout"
        }
      ]
    },
    {
      "cell_type": "markdown",
      "metadata": {
        "id": "4Fx0XS4-RyA-",
        "colab_type": "text"
      },
      "source": [
        "The `math.hypot` function is even faster than Numba!! This is because Numba introduces a certain overhead to each function call, which is larger than the Python function call overhead, very fast functions (like the previous one) will be affected by this.\n",
        "\n",
        "(However, if you call a Numba function from another, there is very little overhead, sometimes even zero if the compiler integrates the function into the other. In short, check if the functions are really accelerating with Numba).\n",
        "\n",
        "https://numba.pydata.org/numba-doc/dev/user/performance-tips.html#performance-tips\n"
      ]
    },
    {
      "cell_type": "markdown",
      "metadata": {
        "id": "YUggI3DFRcZw",
        "colab_type": "text"
      },
      "source": [
        "## How does Numba work?\n",
        "\n"
      ]
    },
    {
      "cell_type": "markdown",
      "metadata": {
        "id": "xOTX9QBqRq1s",
        "colab_type": "text"
      },
      "source": [
        "When we initialize the `hypot` function:"
      ]
    },
    {
      "cell_type": "markdown",
      "metadata": {
        "id": "pJ77D2_NR_lb",
        "colab_type": "text"
      },
      "source": [
        "![Image of Yaktocat](https://github.com/ContinuumIO/gtc2018-numba/raw/99e73d72b5c05e0d469b1e08574ea97d8ceb0800/img/numba_flowchart.png)\n",
        "\n",
        "__IR__ Intermediate Representations\n",
        "\n",
        "__Bytecode Analysis__ Intermediate code more abstract than machine code\n",
        "\n",
        "__LLVM__ Low Level Virtual Machine, infrastructure to develop compilers\n",
        "\n",
        "__NVVM__ It is an IR compiler based on LLVM, it is designed to represent GPU kernels\n",
        "\n",
        "![Image of Yaktocat](https://media.giphy.com/media/3oKIPxVeeVSRDdZqSY/giphy.gif)\n"
      ]
    },
    {
      "cell_type": "markdown",
      "metadata": {
        "id": "3jyU_kUISZGc",
        "colab_type": "text"
      },
      "source": [
        "We can inspect the process for the `hypot` usego `.inspect_types ()`"
      ]
    },
    {
      "cell_type": "markdown",
      "metadata": {
        "id": "mwMCVe2ZHxgC",
        "colab_type": "text"
      },
      "source": [
        "Each line of python is preceded by several lines of Numba IR code. The most useful is to see the type annotations that show us how Numba treats the variables, for example, in \"pyobject\" it is indicating that Numba does not know the `np.sin` function and that he should call it from Python."
      ]
    },
    {
      "cell_type": "code",
      "metadata": {
        "id": "FT4xNrZmKw81",
        "colab_type": "code",
        "outputId": "39b2df22-f008-4aa9-b145-0abd7e15ea01",
        "colab": {
          "base_uri": "https://localhost:8080/",
          "height": 493
        }
      },
      "source": [
        "@jit\n",
        "def foo_np(x):\n",
        "  return np.sin(x)\n",
        "\n",
        "foo_np(2)\n",
        "foo_np.inspect_types()"
      ],
      "execution_count": 0,
      "outputs": [
        {
          "output_type": "stream",
          "text": [
            "foo_np (int64,)\n",
            "--------------------------------------------------------------------------------\n",
            "# File: <ipython-input-18-02574ac7ba04>\n",
            "# --- LINE 1 --- \n",
            "# label 0\n",
            "\n",
            "@jit\n",
            "\n",
            "# --- LINE 2 --- \n",
            "\n",
            "def foo_np(x):\n",
            "\n",
            "  # --- LINE 3 --- \n",
            "  #   x = arg(0, name=x)  :: int64\n",
            "  #   $0.1 = global(np: <module 'numpy' from '/usr/local/lib/python3.6/dist-packages/numpy/__init__.py'>)  :: Module(<module 'numpy' from '/usr/local/lib/python3.6/dist-packages/numpy/__init__.py'>)\n",
            "  #   $0.2 = getattr(value=$0.1, attr=sin)  :: Function(<ufunc 'sin'>)\n",
            "  #   del $0.1\n",
            "  #   $0.4 = call $0.2(x, func=$0.2, args=[Var(x, <ipython-input-18-02574ac7ba04> (3))], kws=(), vararg=None)  :: (int64,) -> float64\n",
            "  #   del x\n",
            "  #   del $0.2\n",
            "  #   $0.5 = cast(value=$0.4)  :: float64\n",
            "  #   del $0.4\n",
            "  #   return $0.5\n",
            "\n",
            "  return np.sin(x)\n",
            "\n",
            "\n",
            "================================================================================\n"
          ],
          "name": "stdout"
        }
      ]
    },
    {
      "cell_type": "code",
      "metadata": {
        "id": "cwhgmrr4HyHz",
        "colab_type": "code",
        "outputId": "6160610a-032a-4369-c6ab-0ad87126203f",
        "colab": {
          "base_uri": "https://localhost:8080/",
          "height": 459
        }
      },
      "source": [
        "def sin(x):\n",
        "  return np.sin(x)\n",
        "\n",
        "@jit\n",
        "def foo_sin(x):\n",
        "    return sin(x)\n",
        " \n",
        "foo_sin(2)\n",
        "foo_sin.inspect_types()"
      ],
      "execution_count": 0,
      "outputs": [
        {
          "output_type": "stream",
          "text": [
            "foo_sin (int64,)\n",
            "--------------------------------------------------------------------------------\n",
            "# File: <ipython-input-19-59cff06a69bd>\n",
            "# --- LINE 4 --- \n",
            "# label 0\n",
            "\n",
            "@jit\n",
            "\n",
            "# --- LINE 5 --- \n",
            "\n",
            "def foo_sin(x):\n",
            "\n",
            "    # --- LINE 6 --- \n",
            "    #   x = arg(0, name=x)  :: pyobject\n",
            "    #   $0.1 = global(sin: <function sin at 0x7f986dcdf378>)  :: pyobject\n",
            "    #   $0.3 = call $0.1(x, func=$0.1, args=[Var(x, <ipython-input-19-59cff06a69bd> (6))], kws=(), vararg=None)  :: pyobject\n",
            "    #   del x\n",
            "    #   del $0.1\n",
            "    #   $0.4 = cast(value=$0.3)  :: pyobject\n",
            "    #   del $0.3\n",
            "    #   return $0.4\n",
            "\n",
            "    return sin(x)\n",
            "\n",
            "\n",
            "================================================================================\n"
          ],
          "name": "stdout"
        }
      ]
    },
    {
      "cell_type": "markdown",
      "metadata": {
        "id": "oEeX8HcBUl8e",
        "colab_type": "text"
      },
      "source": [
        "#### Example: Creating fractals\n",
        "\n",
        "With the following iterative method:\n",
        "\n",
        ">$z_{n+1} = z_{n} + c$\n",
        "\n",
        "For instance, for $c = -1$, the orbit of $z_{o} = 2$\n",
        "\n",
        ">$z_{o} = 2$\n",
        "\n",
        ">$z_{1} = 2^2 - 1 = 3$\n",
        "\n",
        ">$z_{2} = 3^2 - 1 = 8$\n",
        "\n",
        "If it does not diverge, it is called Fatou Set"
      ]
    },
    {
      "cell_type": "code",
      "metadata": {
        "id": "eCk6YwGhSq0E",
        "colab_type": "code",
        "outputId": "4b5849a9-b519-40eb-9e45-0cdcf2b207b9",
        "colab": {
          "base_uri": "https://localhost:8080/",
          "height": 303
        }
      },
      "source": [
        "# Without Numba\n",
        "from matplotlib.pylab import imshow, ion\n",
        "\n",
        "def mandel(x, y, max_iters):\n",
        "    i = 0\n",
        "    c = complex(x,y)\n",
        "    z = 0.0j\n",
        "    for i in range(max_iters):\n",
        "        z = z*z + c\n",
        "        if (z.real*z.real + z.imag*z.imag) >= 4:\n",
        "            return i\n",
        "\n",
        "    return 255\n",
        "\n",
        "def create_fractal(min_x, max_x, min_y, max_y, image, iters):\n",
        "    height = image.shape[0]\n",
        "    width = image.shape[1]\n",
        "\n",
        "    pixel_size_x = (max_x - min_x) / width\n",
        "    pixel_size_y = (max_y - min_y) / height\n",
        "    for x in range(width):\n",
        "        real = min_x + x * pixel_size_x\n",
        "        for y in range(height):\n",
        "            imag = min_y + y * pixel_size_y\n",
        "            color = mandel(real, imag, iters)\n",
        "            image[y, x] = color\n",
        "\n",
        "    return image\n",
        "\n",
        "image = np.zeros((500 * 2, 750 * 2), dtype=np.uint8)\n",
        "%timeit create_fractal(-2.0, 1.0, -1.0, 1.0, image, 20)\n",
        "img = create_fractal(-2.0, 1.0, -1.0, 1.0, image, 20)\n",
        "imshow(img)"
      ],
      "execution_count": 0,
      "outputs": [
        {
          "output_type": "stream",
          "text": [
            "1 loop, best of 3: 4.62 s per loop\n"
          ],
          "name": "stdout"
        },
        {
          "output_type": "execute_result",
          "data": {
            "text/plain": [
              "<matplotlib.image.AxesImage at 0x7f986ce23780>"
            ]
          },
          "metadata": {
            "tags": []
          },
          "execution_count": 20
        },
        {
          "output_type": "display_data",
          "data": {
            "image/png": "[encoded data removed]",
            "text/plain": [
              "<Figure size 432x288 with 1 Axes>"
            ]
          },
          "metadata": {
            "tags": []
          }
        }
      ]
    },
    {
      "cell_type": "code",
      "metadata": {
        "id": "mi4mtpQAU-EW",
        "colab_type": "code",
        "outputId": "60c34bf4-b3d1-4ba1-81f1-a507b26a058a",
        "colab": {
          "base_uri": "https://localhost:8080/",
          "height": 320
        }
      },
      "source": [
        "# With Numba\n",
        "from matplotlib.pylab import imshow, ion\n",
        "\n",
        "@jit\n",
        "def mandel(x, y, max_iters):\n",
        "    \"\"\"\n",
        "    Given the real and imaginary parts of a complex number,\n",
        "    determine if it is a candidate for membership in the Mandelbrot\n",
        "    set given a fixed number of iterations.\n",
        "    \"\"\"\n",
        "    i = 0\n",
        "    c = complex(x,y)\n",
        "    z = 0.0j\n",
        "    for i in range(max_iters):\n",
        "        z = z*z + c\n",
        "        if (z.real*z.real + z.imag*z.imag) >= 4:\n",
        "            return i\n",
        "\n",
        "    return 255\n",
        "\n",
        "@jit\n",
        "def create_fractal(min_x, max_x, min_y, max_y, image, iters):\n",
        "    height = image.shape[0]\n",
        "    width = image.shape[1]\n",
        "\n",
        "    pixel_size_x = (max_x - min_x) / width\n",
        "    pixel_size_y = (max_y - min_y) / height\n",
        "    for x in range(width):\n",
        "        real = min_x + x * pixel_size_x\n",
        "        for y in range(height):\n",
        "            imag = min_y + y * pixel_size_y\n",
        "            color = mandel(real, imag, iters)\n",
        "            image[y, x] = color\n",
        "\n",
        "    return image\n",
        "\n",
        "image = np.zeros((500 * 2, 750 * 2), dtype=np.uint8)\n",
        "%timeit create_fractal(-2.0, 1.0, -1.0, 1.0, image, 20)\n",
        "img = create_fractal(-2.0, 1.0, -1.0, 1.0, image, 20)\n",
        "imshow(img)"
      ],
      "execution_count": 0,
      "outputs": [
        {
          "output_type": "stream",
          "text": [
            "The slowest run took 4.17 times longer than the fastest. This could mean that an intermediate result is being cached.\n",
            "1 loop, best of 3: 52.4 ms per loop\n"
          ],
          "name": "stdout"
        },
        {
          "output_type": "execute_result",
          "data": {
            "text/plain": [
              "<matplotlib.image.AxesImage at 0x7f986c56a5f8>"
            ]
          },
          "metadata": {
            "tags": []
          },
          "execution_count": 21
        },
        {
          "output_type": "display_data",
          "data": {
            "image/png": "[encoded data removed]",
            "text/plain": [
              "<Figure size 432x288 with 1 Axes>"
            ]
          },
          "metadata": {
            "tags": []
          }
        }
      ]
    },
    {
      "cell_type": "markdown",
      "metadata": {
        "id": "hTk_5CSnAaXx",
        "colab_type": "text"
      },
      "source": [
        "#### Example: Montecarlo"
      ]
    },
    {
      "cell_type": "code",
      "metadata": {
        "id": "pCu6yi_7AZLE",
        "colab_type": "code",
        "colab": {}
      },
      "source": [
        "import matplotlib.patches as patches\n",
        "import matplotlib.pyplot as plt\n",
        "from random import randint\n",
        "%matplotlib inline"
      ],
      "execution_count": 0,
      "outputs": []
    },
    {
      "cell_type": "code",
      "metadata": {
        "id": "vwwRc0AMAv9N",
        "colab_type": "code",
        "outputId": "a828b249-ace5-4e10-813d-d25185d9d50e",
        "colab": {
          "base_uri": "https://localhost:8080/",
          "height": 433
        }
      },
      "source": [
        "rad = 20\n",
        "center = (rad, rad)\n",
        "\n",
        "width = rad*2\n",
        "height = rad*2\n",
        "lims = (-5, 45)\n",
        "\n",
        "\n",
        "fig1 = plt.figure(figsize=(8, 6), dpi=80)\n",
        "ax1 = fig1.add_subplot(111, aspect='equal')\n",
        "ax1.add_patch(\n",
        "    patches.Rectangle((0,0), width, height, edgecolor ='green', linewidth = 3,\n",
        "                      fill=False))\n",
        "ax1.add_patch(\n",
        "    patches.Circle(center, rad, color = 'skyblue', fill=True))\n",
        "plt.ylim(lims)\n",
        "plt.xlim(lims)"
      ],
      "execution_count": 0,
      "outputs": [
        {
          "output_type": "execute_result",
          "data": {
            "text/plain": [
              "(-5, 45)"
            ]
          },
          "metadata": {
            "tags": []
          },
          "execution_count": 26
        },
        {
          "output_type": "display_data",
          "data": {
            "image/png": "[encoded data removed]",
            "text/plain": [
              "<Figure size 640x480 with 1 Axes>"
            ]
          },
          "metadata": {
            "tags": []
          }
        }
      ]
    },
    {
      "cell_type": "code",
      "metadata": {
        "id": "Gs-AGDlpA1sy",
        "colab_type": "code",
        "outputId": "29ef61f7-3c7a-4d45-e145-29aa61ce5754",
        "colab": {
          "base_uri": "https://localhost:8080/",
          "height": 51
        }
      },
      "source": [
        "iterations = 10000000\n",
        "\n",
        "# Device function\n",
        "@jit\n",
        "def iteration():\n",
        "  inside = 0\n",
        "\n",
        "  for _ in range(iterations):\n",
        "    xy = np.random.choice(a=rad, size=2, replace=False)\n",
        "\n",
        "    x = xy[0]\n",
        "    y = xy[1]\n",
        "    b = (x - center[0])^2 + (y - center[1])^2 < rad^2\n",
        "\n",
        "    if b:\n",
        "      inside += 1\n",
        "  return inside\n",
        "\n",
        "\n",
        "%timeit iteration()\n",
        "inside = iteration()\n",
        "\n",
        "print('Inside points: ', inside)"
      ],
      "execution_count": 0,
      "outputs": [
        {
          "output_type": "stream",
          "text": [
            "1 loop, best of 3: 1.81 s per loop\n",
            "Inside points:  8474305\n"
          ],
          "name": "stdout"
        }
      ]
    },
    {
      "cell_type": "markdown",
      "metadata": {
        "id": "AYVGSiDQB5vq",
        "colab_type": "text"
      },
      "source": [
        "Without Numba:\n",
        "\n",
        "  - iterations = 10000000 -> 565 sg\n",
        "\n",
        "\"Montecarlo in Cuda\" -> https://gist.github.com/akiross/17e722c5bea92bd2c310324eac643df6\n",
        "\n",
        "\n"
      ]
    },
    {
      "cell_type": "code",
      "metadata": {
        "id": "ZBxfyk-wBsmE",
        "colab_type": "code",
        "outputId": "5adcfa1c-9627-4960-f191-e9d090e43c91",
        "colab": {
          "base_uri": "https://localhost:8080/",
          "height": 51
        }
      },
      "source": [
        "print('Inside points: ', inside)\n",
        "print('Outside points: ', iterations - inside)"
      ],
      "execution_count": 0,
      "outputs": [
        {
          "output_type": "stream",
          "text": [
            "Inside points:  8474305\n",
            "Outside points:  1525695\n"
          ],
          "name": "stdout"
        }
      ]
    },
    {
      "cell_type": "markdown",
      "metadata": {
        "id": "pQKdOgt1Buyr",
        "colab_type": "text"
      },
      "source": [
        "$$SuperficieCuadrado = 4  \\cdot r ^ 2$$\n",
        "\n",
        "$$SuperficieCírculo = \\pi \\cdot r ^ 2$$\n",
        "\n",
        "$$\\frac{SuperficieCirculo}{SuperficieCuadrado}=\\frac{\\pi}{4}$$\n",
        "\n",
        "Therefore, if we have done 100 iterations and 70 are within the circle, we can approximate the value of $ \\pi $ using the following relationship:\n",
        "\n",
        "$$\\frac{70 }{100}=\\frac{\\pi}{4} \\rightarrow  \\pi = 4 \\cdot \\frac{70}{100} \\approx 2.8\t$$"
      ]
    },
    {
      "cell_type": "code",
      "metadata": {
        "id": "VErvVLelBxja",
        "colab_type": "code",
        "outputId": "1f5d52c6-ef91-4878-f062-08c5bf5d62fd",
        "colab": {
          "base_uri": "https://localhost:8080/",
          "height": 34
        }
      },
      "source": [
        "pi_value = 4 * inside / iterations\n",
        "print(pi_value)"
      ],
      "execution_count": 0,
      "outputs": [
        {
          "output_type": "stream",
          "text": [
            "3.389722\n"
          ],
          "name": "stdout"
        }
      ]
    },
    {
      "cell_type": "markdown",
      "metadata": {
        "id": "m-qM3QzWWEgT",
        "colab_type": "text"
      },
      "source": [
        "## Errors  "
      ]
    },
    {
      "cell_type": "markdown",
      "metadata": {
        "id": "h1W1fitbWbaN",
        "colab_type": "text"
      },
      "source": [
        "We have said that Numba only works for numeric functions, although Numba compiles and runs any Python code, there are some types of data that it cannot compile yet (such as dictionaries) and it also makes no sense to compile them."
      ]
    },
    {
      "cell_type": "code",
      "metadata": {
        "id": "8y9P_z6xW4QI",
        "colab_type": "code",
        "outputId": "db60bce5-39fb-455c-855d-f0c8715e07a0",
        "colab": {
          "base_uri": "https://localhost:8080/",
          "height": 34
        }
      },
      "source": [
        "@jit\n",
        "def dictionary(dict_test):\n",
        "  return dict_test['house']\n",
        "\n",
        "dictionary({'house': 245, 'car': 350})"
      ],
      "execution_count": 0,
      "outputs": [
        {
          "output_type": "execute_result",
          "data": {
            "text/plain": [
              "245"
            ]
          },
          "metadata": {
            "tags": []
          },
          "execution_count": 30
        }
      ]
    },
    {
      "cell_type": "markdown",
      "metadata": {
        "id": "cWr_5dEOXVCZ",
        "colab_type": "text"
      },
      "source": [
        "But it has not failed !! We have said that Numba does not compile dictionaries... The point here is that Numba creates 2 functions, one of them in Python and another in Numba. So here we are seeing the python solution, we can verify this by doing `nopython = True`."
      ]
    },
    {
      "cell_type": "code",
      "metadata": {
        "id": "i197W43hX8AO",
        "colab_type": "code",
        "outputId": "8f45ece7-890f-4ce8-e65c-85144730416e",
        "colab": {
          "base_uri": "https://localhost:8080/",
          "height": 1174
        }
      },
      "source": [
        "@jit(nopython = True)\n",
        "def dictionary(dict_test):\n",
        "  return dict_test['house']\n",
        "\n",
        "dictionary({'house': 245, 'car': 350})"
      ],
      "execution_count": 0,
      "outputs": [
        {
          "output_type": "error",
          "ename": "TypingError",
          "evalue": "ignored",
          "traceback": [
            "\u001b[0;31m---------------------------------------------------------------------------\u001b[0m",
            "\u001b[0;31mTypingError\u001b[0m                               Traceback (most recent call last)",
            "\u001b[0;32m<ipython-input-31-14d1c8683c01>\u001b[0m in \u001b[0;36m<module>\u001b[0;34m()\u001b[0m\n\u001b[1;32m      3\u001b[0m   \u001b[0;32mreturn\u001b[0m \u001b[0mdict_test\u001b[0m\u001b[0;34m[\u001b[0m\u001b[0;34m'house'\u001b[0m\u001b[0;34m]\u001b[0m\u001b[0;34m\u001b[0m\u001b[0;34m\u001b[0m\u001b[0m\n\u001b[1;32m      4\u001b[0m \u001b[0;34m\u001b[0m\u001b[0m\n\u001b[0;32m----> 5\u001b[0;31m \u001b[0mdictionary\u001b[0m\u001b[0;34m(\u001b[0m\u001b[0;34m{\u001b[0m\u001b[0;34m'house'\u001b[0m\u001b[0;34m:\u001b[0m \u001b[0;36m245\u001b[0m\u001b[0;34m,\u001b[0m \u001b[0;34m'car'\u001b[0m\u001b[0;34m:\u001b[0m \u001b[0;36m350\u001b[0m\u001b[0;34m}\u001b[0m\u001b[0;34m)\u001b[0m\u001b[0;34m\u001b[0m\u001b[0;34m\u001b[0m\u001b[0m\n\u001b[0m",
            "\u001b[0;32m/usr/local/lib/python3.6/dist-packages/numba/dispatcher.py\u001b[0m in \u001b[0;36m_compile_for_args\u001b[0;34m(self, *args, **kws)\u001b[0m\n\u001b[1;32m    346\u001b[0m                 \u001b[0me\u001b[0m\u001b[0;34m.\u001b[0m\u001b[0mpatch_message\u001b[0m\u001b[0;34m(\u001b[0m\u001b[0mmsg\u001b[0m\u001b[0;34m)\u001b[0m\u001b[0;34m\u001b[0m\u001b[0;34m\u001b[0m\u001b[0m\n\u001b[1;32m    347\u001b[0m \u001b[0;34m\u001b[0m\u001b[0m\n\u001b[0;32m--> 348\u001b[0;31m             \u001b[0merror_rewrite\u001b[0m\u001b[0;34m(\u001b[0m\u001b[0me\u001b[0m\u001b[0;34m,\u001b[0m \u001b[0;34m'typing'\u001b[0m\u001b[0;34m)\u001b[0m\u001b[0;34m\u001b[0m\u001b[0;34m\u001b[0m\u001b[0m\n\u001b[0m\u001b[1;32m    349\u001b[0m         \u001b[0;32mexcept\u001b[0m \u001b[0merrors\u001b[0m\u001b[0;34m.\u001b[0m\u001b[0mUnsupportedError\u001b[0m \u001b[0;32mas\u001b[0m \u001b[0me\u001b[0m\u001b[0;34m:\u001b[0m\u001b[0;34m\u001b[0m\u001b[0;34m\u001b[0m\u001b[0m\n\u001b[1;32m    350\u001b[0m             \u001b[0;31m# Something unsupported is present in the user code, add help info\u001b[0m\u001b[0;34m\u001b[0m\u001b[0;34m\u001b[0m\u001b[0;34m\u001b[0m\u001b[0m\n",
            "\u001b[0;32m/usr/local/lib/python3.6/dist-packages/numba/dispatcher.py\u001b[0m in \u001b[0;36merror_rewrite\u001b[0;34m(e, issue_type)\u001b[0m\n\u001b[1;32m    313\u001b[0m                 \u001b[0;32mraise\u001b[0m \u001b[0me\u001b[0m\u001b[0;34m\u001b[0m\u001b[0;34m\u001b[0m\u001b[0m\n\u001b[1;32m    314\u001b[0m             \u001b[0;32melse\u001b[0m\u001b[0;34m:\u001b[0m\u001b[0;34m\u001b[0m\u001b[0;34m\u001b[0m\u001b[0m\n\u001b[0;32m--> 315\u001b[0;31m                 \u001b[0mreraise\u001b[0m\u001b[0;34m(\u001b[0m\u001b[0mtype\u001b[0m\u001b[0;34m(\u001b[0m\u001b[0me\u001b[0m\u001b[0;34m)\u001b[0m\u001b[0;34m,\u001b[0m \u001b[0me\u001b[0m\u001b[0;34m,\u001b[0m \u001b[0;32mNone\u001b[0m\u001b[0;34m)\u001b[0m\u001b[0;34m\u001b[0m\u001b[0;34m\u001b[0m\u001b[0m\n\u001b[0m\u001b[1;32m    316\u001b[0m \u001b[0;34m\u001b[0m\u001b[0m\n\u001b[1;32m    317\u001b[0m         \u001b[0margtypes\u001b[0m \u001b[0;34m=\u001b[0m \u001b[0;34m[\u001b[0m\u001b[0;34m]\u001b[0m\u001b[0;34m\u001b[0m\u001b[0;34m\u001b[0m\u001b[0m\n",
            "\u001b[0;32m/usr/local/lib/python3.6/dist-packages/numba/six.py\u001b[0m in \u001b[0;36mreraise\u001b[0;34m(tp, value, tb)\u001b[0m\n\u001b[1;32m    656\u001b[0m             \u001b[0mvalue\u001b[0m \u001b[0;34m=\u001b[0m \u001b[0mtp\u001b[0m\u001b[0;34m(\u001b[0m\u001b[0;34m)\u001b[0m\u001b[0;34m\u001b[0m\u001b[0;34m\u001b[0m\u001b[0m\n\u001b[1;32m    657\u001b[0m         \u001b[0;32mif\u001b[0m \u001b[0mvalue\u001b[0m\u001b[0;34m.\u001b[0m\u001b[0m__traceback__\u001b[0m \u001b[0;32mis\u001b[0m \u001b[0;32mnot\u001b[0m \u001b[0mtb\u001b[0m\u001b[0;34m:\u001b[0m\u001b[0;34m\u001b[0m\u001b[0;34m\u001b[0m\u001b[0m\n\u001b[0;32m--> 658\u001b[0;31m             \u001b[0;32mraise\u001b[0m \u001b[0mvalue\u001b[0m\u001b[0;34m.\u001b[0m\u001b[0mwith_traceback\u001b[0m\u001b[0;34m(\u001b[0m\u001b[0mtb\u001b[0m\u001b[0;34m)\u001b[0m\u001b[0;34m\u001b[0m\u001b[0;34m\u001b[0m\u001b[0m\n\u001b[0m\u001b[1;32m    659\u001b[0m         \u001b[0;32mraise\u001b[0m \u001b[0mvalue\u001b[0m\u001b[0;34m\u001b[0m\u001b[0;34m\u001b[0m\u001b[0m\n\u001b[1;32m    660\u001b[0m \u001b[0;34m\u001b[0m\u001b[0m\n",
            "\u001b[0;31mTypingError\u001b[0m: Failed in nopython mode pipeline (step: nopython frontend)\nInternal error at <numba.typeinfer.ArgConstraint object at 0x7f986c1bed68>:\n--%<----------------------------------------------------------------------------\nTraceback (most recent call last):\n  File \"/usr/local/lib/python3.6/dist-packages/numba/errors.py\", line 599, in new_error_context\n    yield\n  File \"/usr/local/lib/python3.6/dist-packages/numba/typeinfer.py\", line 199, in __call__\n    assert ty.is_precise()\nAssertionError\n\nDuring handling of the above exception, another exception occurred:\n\nTraceback (most recent call last):\n  File \"/usr/local/lib/python3.6/dist-packages/numba/typeinfer.py\", line 142, in propagate\n    constraint(typeinfer)\n  File \"/usr/local/lib/python3.6/dist-packages/numba/typeinfer.py\", line 200, in __call__\n    typeinfer.add_type(self.dst, ty, loc=self.loc)\n  File \"/usr/lib/python3.6/contextlib.py\", line 99, in __exit__\n    self.gen.throw(type, value, traceback)\n  File \"/usr/local/lib/python3.6/dist-packages/numba/errors.py\", line 607, in new_error_context\n    six.reraise(type(newerr), newerr, tb)\n  File \"/usr/local/lib/python3.6/dist-packages/numba/six.py\", line 659, in reraise\n    raise value\nnumba.errors.InternalError: \n[1] During: typing of argument at <ipython-input-31-14d1c8683c01> (3)\n--%<----------------------------------------------------------------------------\n\n\nFile \"<ipython-input-31-14d1c8683c01>\", line 3:\ndef dictionary(dict_test):\n  return dict_test['house']\n  ^\n\nThis error may have been caused by the following argument(s):\n- argument 0: cannot determine Numba type of <class 'dict'>\n\nThis is not usually a problem with Numba itself but instead often caused by\nthe use of unsupported features or an issue in resolving types.\n\nTo see Python/NumPy features supported by the latest release of Numba visit:\nhttp://numba.pydata.org/numba-doc/dev/reference/pysupported.html\nand\nhttp://numba.pydata.org/numba-doc/dev/reference/numpysupported.html\n\nFor more information about typing errors and how to debug them visit:\nhttp://numba.pydata.org/numba-doc/latest/user/troubleshoot.html#my-code-doesn-t-compile\n\nIf you think your code should work with Numba, please report the error message\nand traceback, along with a minimal reproducer at:\nhttps://github.com/numba/numba/issues/new\n"
          ]
        }
      ]
    },
    {
      "cell_type": "markdown",
      "metadata": {
        "id": "ohbDlv4Jf044",
        "colab_type": "text"
      },
      "source": [
        "The `njit` function is equivalent to `jit(nopython = True)`"
      ]
    },
    {
      "cell_type": "code",
      "metadata": {
        "id": "akHb021NgD3E",
        "colab_type": "code",
        "outputId": "dee04719-93eb-4832-e859-4f34b15cb67f",
        "colab": {
          "base_uri": "https://localhost:8080/",
          "height": 1174
        }
      },
      "source": [
        "from numba import njit\n",
        "\n",
        "@njit\n",
        "def dictionary(dict_test):\n",
        "  return dict_test['house']\n",
        "\n",
        "dictionary({'house': 245, 'car': 350})"
      ],
      "execution_count": 0,
      "outputs": [
        {
          "output_type": "error",
          "ename": "TypingError",
          "evalue": "ignored",
          "traceback": [
            "\u001b[0;31m---------------------------------------------------------------------------\u001b[0m",
            "\u001b[0;31mTypingError\u001b[0m                               Traceback (most recent call last)",
            "\u001b[0;32m<ipython-input-32-d0556ab6834b>\u001b[0m in \u001b[0;36m<module>\u001b[0;34m()\u001b[0m\n\u001b[1;32m      5\u001b[0m   \u001b[0;32mreturn\u001b[0m \u001b[0mdict_test\u001b[0m\u001b[0;34m[\u001b[0m\u001b[0;34m'house'\u001b[0m\u001b[0;34m]\u001b[0m\u001b[0;34m\u001b[0m\u001b[0;34m\u001b[0m\u001b[0m\n\u001b[1;32m      6\u001b[0m \u001b[0;34m\u001b[0m\u001b[0m\n\u001b[0;32m----> 7\u001b[0;31m \u001b[0mdictionary\u001b[0m\u001b[0;34m(\u001b[0m\u001b[0;34m{\u001b[0m\u001b[0;34m'house'\u001b[0m\u001b[0;34m:\u001b[0m \u001b[0;36m245\u001b[0m\u001b[0;34m,\u001b[0m \u001b[0;34m'car'\u001b[0m\u001b[0;34m:\u001b[0m \u001b[0;36m350\u001b[0m\u001b[0;34m}\u001b[0m\u001b[0;34m)\u001b[0m\u001b[0;34m\u001b[0m\u001b[0;34m\u001b[0m\u001b[0m\n\u001b[0m",
            "\u001b[0;32m/usr/local/lib/python3.6/dist-packages/numba/dispatcher.py\u001b[0m in \u001b[0;36m_compile_for_args\u001b[0;34m(self, *args, **kws)\u001b[0m\n\u001b[1;32m    346\u001b[0m                 \u001b[0me\u001b[0m\u001b[0;34m.\u001b[0m\u001b[0mpatch_message\u001b[0m\u001b[0;34m(\u001b[0m\u001b[0mmsg\u001b[0m\u001b[0;34m)\u001b[0m\u001b[0;34m\u001b[0m\u001b[0;34m\u001b[0m\u001b[0m\n\u001b[1;32m    347\u001b[0m \u001b[0;34m\u001b[0m\u001b[0m\n\u001b[0;32m--> 348\u001b[0;31m             \u001b[0merror_rewrite\u001b[0m\u001b[0;34m(\u001b[0m\u001b[0me\u001b[0m\u001b[0;34m,\u001b[0m \u001b[0;34m'typing'\u001b[0m\u001b[0;34m)\u001b[0m\u001b[0;34m\u001b[0m\u001b[0;34m\u001b[0m\u001b[0m\n\u001b[0m\u001b[1;32m    349\u001b[0m         \u001b[0;32mexcept\u001b[0m \u001b[0merrors\u001b[0m\u001b[0;34m.\u001b[0m\u001b[0mUnsupportedError\u001b[0m \u001b[0;32mas\u001b[0m \u001b[0me\u001b[0m\u001b[0;34m:\u001b[0m\u001b[0;34m\u001b[0m\u001b[0;34m\u001b[0m\u001b[0m\n\u001b[1;32m    350\u001b[0m             \u001b[0;31m# Something unsupported is present in the user code, add help info\u001b[0m\u001b[0;34m\u001b[0m\u001b[0;34m\u001b[0m\u001b[0;34m\u001b[0m\u001b[0m\n",
            "\u001b[0;32m/usr/local/lib/python3.6/dist-packages/numba/dispatcher.py\u001b[0m in \u001b[0;36merror_rewrite\u001b[0;34m(e, issue_type)\u001b[0m\n\u001b[1;32m    313\u001b[0m                 \u001b[0;32mraise\u001b[0m \u001b[0me\u001b[0m\u001b[0;34m\u001b[0m\u001b[0;34m\u001b[0m\u001b[0m\n\u001b[1;32m    314\u001b[0m             \u001b[0;32melse\u001b[0m\u001b[0;34m:\u001b[0m\u001b[0;34m\u001b[0m\u001b[0;34m\u001b[0m\u001b[0m\n\u001b[0;32m--> 315\u001b[0;31m                 \u001b[0mreraise\u001b[0m\u001b[0;34m(\u001b[0m\u001b[0mtype\u001b[0m\u001b[0;34m(\u001b[0m\u001b[0me\u001b[0m\u001b[0;34m)\u001b[0m\u001b[0;34m,\u001b[0m \u001b[0me\u001b[0m\u001b[0;34m,\u001b[0m \u001b[0;32mNone\u001b[0m\u001b[0;34m)\u001b[0m\u001b[0;34m\u001b[0m\u001b[0;34m\u001b[0m\u001b[0m\n\u001b[0m\u001b[1;32m    316\u001b[0m \u001b[0;34m\u001b[0m\u001b[0m\n\u001b[1;32m    317\u001b[0m         \u001b[0margtypes\u001b[0m \u001b[0;34m=\u001b[0m \u001b[0;34m[\u001b[0m\u001b[0;34m]\u001b[0m\u001b[0;34m\u001b[0m\u001b[0;34m\u001b[0m\u001b[0m\n",
            "\u001b[0;32m/usr/local/lib/python3.6/dist-packages/numba/six.py\u001b[0m in \u001b[0;36mreraise\u001b[0;34m(tp, value, tb)\u001b[0m\n\u001b[1;32m    656\u001b[0m             \u001b[0mvalue\u001b[0m \u001b[0;34m=\u001b[0m \u001b[0mtp\u001b[0m\u001b[0;34m(\u001b[0m\u001b[0;34m)\u001b[0m\u001b[0;34m\u001b[0m\u001b[0;34m\u001b[0m\u001b[0m\n\u001b[1;32m    657\u001b[0m         \u001b[0;32mif\u001b[0m \u001b[0mvalue\u001b[0m\u001b[0;34m.\u001b[0m\u001b[0m__traceback__\u001b[0m \u001b[0;32mis\u001b[0m \u001b[0;32mnot\u001b[0m \u001b[0mtb\u001b[0m\u001b[0;34m:\u001b[0m\u001b[0;34m\u001b[0m\u001b[0;34m\u001b[0m\u001b[0m\n\u001b[0;32m--> 658\u001b[0;31m             \u001b[0;32mraise\u001b[0m \u001b[0mvalue\u001b[0m\u001b[0;34m.\u001b[0m\u001b[0mwith_traceback\u001b[0m\u001b[0;34m(\u001b[0m\u001b[0mtb\u001b[0m\u001b[0;34m)\u001b[0m\u001b[0;34m\u001b[0m\u001b[0;34m\u001b[0m\u001b[0m\n\u001b[0m\u001b[1;32m    659\u001b[0m         \u001b[0;32mraise\u001b[0m \u001b[0mvalue\u001b[0m\u001b[0;34m\u001b[0m\u001b[0;34m\u001b[0m\u001b[0m\n\u001b[1;32m    660\u001b[0m \u001b[0;34m\u001b[0m\u001b[0m\n",
            "\u001b[0;31mTypingError\u001b[0m: Failed in nopython mode pipeline (step: nopython frontend)\nInternal error at <numba.typeinfer.ArgConstraint object at 0x7f986c3c4a90>:\n--%<----------------------------------------------------------------------------\nTraceback (most recent call last):\n  File \"/usr/local/lib/python3.6/dist-packages/numba/errors.py\", line 599, in new_error_context\n    yield\n  File \"/usr/local/lib/python3.6/dist-packages/numba/typeinfer.py\", line 199, in __call__\n    assert ty.is_precise()\nAssertionError\n\nDuring handling of the above exception, another exception occurred:\n\nTraceback (most recent call last):\n  File \"/usr/local/lib/python3.6/dist-packages/numba/typeinfer.py\", line 142, in propagate\n    constraint(typeinfer)\n  File \"/usr/local/lib/python3.6/dist-packages/numba/typeinfer.py\", line 200, in __call__\n    typeinfer.add_type(self.dst, ty, loc=self.loc)\n  File \"/usr/lib/python3.6/contextlib.py\", line 99, in __exit__\n    self.gen.throw(type, value, traceback)\n  File \"/usr/local/lib/python3.6/dist-packages/numba/errors.py\", line 607, in new_error_context\n    six.reraise(type(newerr), newerr, tb)\n  File \"/usr/local/lib/python3.6/dist-packages/numba/six.py\", line 659, in reraise\n    raise value\nnumba.errors.InternalError: \n[1] During: typing of argument at <ipython-input-32-d0556ab6834b> (5)\n--%<----------------------------------------------------------------------------\n\n\nFile \"<ipython-input-32-d0556ab6834b>\", line 5:\ndef dictionary(dict_test):\n  return dict_test['house']\n  ^\n\nThis error may have been caused by the following argument(s):\n- argument 0: cannot determine Numba type of <class 'dict'>\n\nThis is not usually a problem with Numba itself but instead often caused by\nthe use of unsupported features or an issue in resolving types.\n\nTo see Python/NumPy features supported by the latest release of Numba visit:\nhttp://numba.pydata.org/numba-doc/dev/reference/pysupported.html\nand\nhttp://numba.pydata.org/numba-doc/dev/reference/numpysupported.html\n\nFor more information about typing errors and how to debug them visit:\nhttp://numba.pydata.org/numba-doc/latest/user/troubleshoot.html#my-code-doesn-t-compile\n\nIf you think your code should work with Numba, please report the error message\nand traceback, along with a minimal reproducer at:\nhttps://github.com/numba/numba/issues/new\n"
          ]
        }
      ]
    },
    {
      "cell_type": "markdown",
      "metadata": {
        "id": "-j5_ugY3gTb4",
        "colab_type": "text"
      },
      "source": [
        "# Numba for GPU"
      ]
    },
    {
      "cell_type": "markdown",
      "metadata": {
        "id": "000-ybOwgc3S",
        "colab_type": "text"
      },
      "source": [
        "There are two ways to program in GPU using Numba:\n",
        "\n",
        "__1.__   ufuncs/gufuncs__\n",
        "\n",
        "__2.__  CUDA Python Kernels\n",
        "\n"
      ]
    },
    {
      "cell_type": "code",
      "metadata": {
        "id": "6xUV88VBkGtq",
        "colab_type": "code",
        "outputId": "013e4cb5-9c92-496e-f4b3-b52433dddd83",
        "colab": {
          "base_uri": "https://localhost:8080/",
          "height": 204
        }
      },
      "source": [
        "# Usar Numba en GPU en Colab\n",
        "!apt-get install nvidia-cuda-toolkit\n",
        "!pip3 install numba\n",
        "\n",
        "import os\n",
        "os.environ['NUMBAPRO_LIBDEVICE'] = \"/usr/lib/nvidia-cuda-toolkit/libdevice\"\n",
        "os.environ['NUMBAPRO_NVVM'] = \"/usr/lib/x86_64-linux-gnu/libnvvm.so\""
      ],
      "execution_count": 0,
      "outputs": [
        {
          "output_type": "stream",
          "text": [
            "Reading package lists... Done\n",
            "Building dependency tree       \n",
            "Reading state information... Done\n",
            "nvidia-cuda-toolkit is already the newest version (9.1.85-3ubuntu1).\n",
            "The following package was automatically installed and is no longer required:\n",
            "  libnvidia-common-410\n",
            "Use 'apt autoremove' to remove it.\n",
            "0 upgraded, 0 newly installed, 0 to remove and 8 not upgraded.\n",
            "Requirement already satisfied: numba in /usr/local/lib/python3.6/dist-packages (0.40.1)\n",
            "Requirement already satisfied: llvmlite>=0.25.0dev0 in /usr/local/lib/python3.6/dist-packages (from numba) (0.29.0)\n",
            "Requirement already satisfied: numpy in /usr/local/lib/python3.6/dist-packages (from numba) (1.16.4)\n"
          ],
          "name": "stdout"
        }
      ]
    },
    {
      "cell_type": "markdown",
      "metadata": {
        "id": "nd88KHERJNyQ",
        "colab_type": "text"
      },
      "source": [
        "## Functions ufunc"
      ]
    },
    {
      "cell_type": "markdown",
      "metadata": {
        "id": "T7Cknt_SKRc_",
        "colab_type": "text"
      },
      "source": [
        "One of the main design features of the GPU is the ability to handle data in parallel, so the universal functions of numpy (ufunc) are an ideal candidate to implement them in GPU programming.\n",
        "\n",
        "**_Note_**: ufunc are functions that perform the same operation on each element of a numpy array."
      ]
    },
    {
      "cell_type": "code",
      "metadata": {
        "id": "vI8WrSr2JVjk",
        "colab_type": "code",
        "outputId": "f0bcdc50-83ab-4c6e-9d58-637ee125e638",
        "colab": {
          "base_uri": "https://localhost:8080/",
          "height": 34
        }
      },
      "source": [
        "import numpy as np\n",
        "\n",
        "a = np.array([1, 2, 3, 4])\n",
        "b = np.array([23, 341, 12, 5])\n",
        "\n",
        "np.add(a, b)"
      ],
      "execution_count": 0,
      "outputs": [
        {
          "output_type": "execute_result",
          "data": {
            "text/plain": [
              "array([ 24, 343,  15,   9])"
            ]
          },
          "metadata": {
            "tags": []
          },
          "execution_count": 33
        }
      ]
    },
    {
      "cell_type": "markdown",
      "metadata": {
        "id": "4UyLpN2sLbFV",
        "colab_type": "text"
      },
      "source": [
        "Returns a new array, with the result of having performed the operation of adding to the array `a` the array `b`. It can also be used with scalars."
      ]
    },
    {
      "cell_type": "code",
      "metadata": {
        "id": "yEDStx2wJVYS",
        "colab_type": "code",
        "outputId": "ac3fa3ef-4b23-40ca-d599-95c059aa80a4",
        "colab": {
          "base_uri": "https://localhost:8080/",
          "height": 34
        }
      },
      "source": [
        "np.add(b, 200)"
      ],
      "execution_count": 0,
      "outputs": [
        {
          "output_type": "execute_result",
          "data": {
            "text/plain": [
              "array([223, 541, 212, 205])"
            ]
          },
          "metadata": {
            "tags": []
          },
          "execution_count": 34
        }
      ]
    },
    {
      "cell_type": "markdown",
      "metadata": {
        "id": "q1TBpdFTL-oU",
        "colab_type": "text"
      },
      "source": [
        "Arrays of different dimensions can also be operated using a technique called broadcasting. The array with the smallest dimension will be copied to match the dimensionality of the array with the largest dimension."
      ]
    },
    {
      "cell_type": "code",
      "metadata": {
        "id": "hb2wkhXkL4Yy",
        "colab_type": "code",
        "outputId": "093715c7-5c48-4f08-a67a-72d620662042",
        "colab": {
          "base_uri": "https://localhost:8080/",
          "height": 323
        }
      },
      "source": [
        "c = np.array([2, 3, 7, 8, 10, 34])\n",
        "d = np.arange(6*6).reshape((6,6))\n",
        "\n",
        "print('c array: \\n', c)\n",
        "print('\\nd array: \\n', d)\n",
        "print('\\n')\n",
        "\n",
        "np.add(c, d)"
      ],
      "execution_count": 0,
      "outputs": [
        {
          "output_type": "stream",
          "text": [
            "c array: \n",
            " [ 2  3  7  8 10 34]\n",
            "\n",
            "d array: \n",
            " [[ 0  1  2  3  4  5]\n",
            " [ 6  7  8  9 10 11]\n",
            " [12 13 14 15 16 17]\n",
            " [18 19 20 21 22 23]\n",
            " [24 25 26 27 28 29]\n",
            " [30 31 32 33 34 35]]\n",
            "\n",
            "\n"
          ],
          "name": "stdout"
        },
        {
          "output_type": "execute_result",
          "data": {
            "text/plain": [
              "array([[ 2,  4,  9, 11, 14, 39],\n",
              "       [ 8, 10, 15, 17, 20, 45],\n",
              "       [14, 16, 21, 23, 26, 51],\n",
              "       [20, 22, 27, 29, 32, 57],\n",
              "       [26, 28, 33, 35, 38, 63],\n",
              "       [32, 34, 39, 41, 44, 69]])"
            ]
          },
          "metadata": {
            "tags": []
          },
          "execution_count": 35
        }
      ]
    },
    {
      "cell_type": "markdown",
      "metadata": {
        "id": "dtQpz6UgSWxU",
        "colab_type": "text"
      },
      "source": [
        "### Making functions ufunc for GPU\n",
        "\n",
        "As we have said before, the ufunc functions are an ideal candidate to use them with GPU because of their parallelism. Therefore, Numba has the ability to create compiled ufunc functions without using C. To do this, we must use the decorator `@vectorize`.\n",
        "\n",
        "Let's start with an example using `@vectorize` to compile and optimize a CPU ufunc."
      ]
    },
    {
      "cell_type": "code",
      "metadata": {
        "id": "qD24rHU3SzxR",
        "colab_type": "code",
        "colab": {}
      },
      "source": [
        "from numba import vectorize\n",
        "\n",
        "a = np.array([1, 2, 3, 4])\n",
        "b = np.array([23, 341, 12, 5])\n",
        "\n",
        "@vectorize\n",
        "def add_ufunc_cpu(a, b):\n",
        "  return a + b"
      ],
      "execution_count": 0,
      "outputs": []
    },
    {
      "cell_type": "code",
      "metadata": {
        "id": "jB6fCpFrTOZO",
        "colab_type": "code",
        "outputId": "0cac8c3e-6d44-4087-b43f-5060153ab8ca",
        "colab": {
          "base_uri": "https://localhost:8080/",
          "height": 34
        }
      },
      "source": [
        "# Numba function\n",
        "add_ufunc_cpu(a, b)"
      ],
      "execution_count": 0,
      "outputs": [
        {
          "output_type": "execute_result",
          "data": {
            "text/plain": [
              "array([ 24, 343,  15,   9])"
            ]
          },
          "metadata": {
            "tags": []
          },
          "execution_count": 37
        }
      ]
    },
    {
      "cell_type": "markdown",
      "metadata": {
        "id": "BRIuyhr6TeCb",
        "colab_type": "text"
      },
      "source": [
        "Instead of using the CPU to compile and execute the previous function, we are going to use CUDA in the GPU and for this we must use a \"target attribute\". We will indicate what type each variable is (arguments and return value).\n",
        "\n",
        "\n",
        "`return_value_type(argument1_value_type, argument2_value_type, ...)`\n",
        "\n",
        "To do this, we will use the previous function that expects 2 int64 values and returns another int64 value. We will designate `target = 'cuda'` to be able to execute it in the GPU."
      ]
    },
    {
      "cell_type": "code",
      "metadata": {
        "id": "np5fvHEKUCCE",
        "colab_type": "code",
        "colab": {}
      },
      "source": [
        "@vectorize(['int64(int64, int64)'], target='cuda') \n",
        "def add_ufunc_gpu(x, y):\n",
        "    return x + y"
      ],
      "execution_count": 0,
      "outputs": []
    },
    {
      "cell_type": "code",
      "metadata": {
        "id": "JGJCYwksUeXj",
        "colab_type": "code",
        "outputId": "7896ead4-e31a-46d7-c9cc-a762eabf1a09",
        "colab": {
          "base_uri": "https://localhost:8080/",
          "height": 34
        }
      },
      "source": [
        "add_ufunc_gpu(a, b)"
      ],
      "execution_count": 0,
      "outputs": [
        {
          "output_type": "execute_result",
          "data": {
            "text/plain": [
              "array([ 24, 343,  15,   9])"
            ]
          },
          "metadata": {
            "tags": []
          },
          "execution_count": 39
        }
      ]
    },
    {
      "cell_type": "markdown",
      "metadata": {
        "id": "z_i5yifNUtYL",
        "colab_type": "text"
      },
      "source": [
        "We can check the speed of running it on CPU or GPU"
      ]
    },
    {
      "cell_type": "code",
      "metadata": {
        "id": "71DLTwwEVMyM",
        "colab_type": "code",
        "outputId": "8004b7e7-41e4-46ab-b607-df22375546f4",
        "colab": {
          "base_uri": "https://localhost:8080/",
          "height": 51
        }
      },
      "source": [
        "%timeit np.add(a, b)   # Numpy en CPU"
      ],
      "execution_count": 0,
      "outputs": [
        {
          "output_type": "stream",
          "text": [
            "The slowest run took 38.66 times longer than the fastest. This could mean that an intermediate result is being cached.\n",
            "1000000 loops, best of 3: 511 ns per loop\n"
          ],
          "name": "stdout"
        }
      ]
    },
    {
      "cell_type": "code",
      "metadata": {
        "id": "lVoLg2J-sWJH",
        "colab_type": "code",
        "outputId": "982ed003-efa2-4157-b6c3-97100a2993a5",
        "colab": {
          "base_uri": "https://localhost:8080/",
          "height": 51
        }
      },
      "source": [
        "%timeit add_ufunc_gpu(a, b)   # Numpy en GPU"
      ],
      "execution_count": 0,
      "outputs": [
        {
          "output_type": "stream",
          "text": [
            "The slowest run took 4.01 times longer than the fastest. This could mean that an intermediate result is being cached.\n",
            "1000 loops, best of 3: 755 µs per loop\n"
          ],
          "name": "stdout"
        }
      ]
    },
    {
      "cell_type": "markdown",
      "metadata": {
        "id": "ElQvxCIpWKH_",
        "colab_type": "text"
      },
      "source": [
        "GPU is slower than the CPU!!! Quiet, this has an explanation ... But first let's see what happens when we call that function\n",
        "![ChessUrl](https://media.giphy.com/media/9M1ALCAKvXQKSf9Zfo/giphy.gif)\n"
      ]
    },
    {
      "cell_type": "markdown",
      "metadata": {
        "id": "1DZnfO_-WQTz",
        "colab_type": "text"
      },
      "source": [
        "When we execute this function, Numba produces:\n",
        "\n",
        "\n",
        "\n",
        "1. Compile a CUDA kernel to execute the ufunc function in parallel over all the elements of the input array\n",
        "2. Assign the inputs and outputs to the GPU memory\n",
        "3. Copy the input to the GPU\n",
        "4. Run the CUDA Kernel\n",
        "5. Copy the results back from the GPU to the CPU\n",
        "6. Return the results as a numpy array\n",
        "\n",
        "As compared to the implementation in C, Numba allows you to perform these types of tasks in a more concise way.\n",
        "\n",
        "Why is the GPU slower than the CPU?\n",
        "\n",
        "\n",
        "* Our inputs are too small: The GPU achieves better performance using pararelismo operating on thousands of values ​​at once. Our inputs are 4 or 64 dimensions, we need larger arrays to keep the GPU occupied.\n",
        "\n",
        "* Very simple calculation: Sending the calculation to the GPU requires a lot of \"effort\" compared to calling the CPU function. If our function does not require excessive mathematical computation (this is usually called * arithmetic intensity *), then the GPU could take longer than in the CPU.\n",
        "\n",
        "* Numba copies the data to the GPU\n",
        "\n",
        "* The variable types of our inputs are larger than necessary: ​​Our example uses int64 and we probably do not need them. Practically, in CPU, 32 and 64-bits have the same computing speed, but in GPU, 64-bits have a slight increase in computational speed (it can reach up to 24x slower respectively to 32-bits). So it is important to keep this in mind when executing our function in the GPU.\n",
        "\n",
        "\n",
        "With this in mind, we will try to apply what has been learned in the previous points to see if it is really faster to operate on the GPU than the CPU. We are going to calculate a density function, which is a slightly more complex operation with larger arrays."
      ]
    },
    {
      "cell_type": "markdown",
      "metadata": {
        "id": "CCsVb1O9Q_Li",
        "colab_type": "text"
      },
      "source": [
        "Let's calculate the value of a Gaussian density function in `x` given the mean and sigma:"
      ]
    },
    {
      "cell_type": "code",
      "metadata": {
        "id": "tNG-g0SyPWYL",
        "colab_type": "code",
        "colab": {}
      },
      "source": [
        "import math\n",
        "\n",
        "sqrt_pi = np.float32((2*math.pi)**0.5) \n",
        "\n",
        "@vectorize(['float32(float32, float32, float32)'], target='cuda')\n",
        "def gaussian_dens_gpu(x, mean, sigma):\n",
        "    return math.exp(-0.5 * ((x - mean) / sigma)**2) / (sigma * sqrt_pi)\n",
        "  \n",
        "x = np.random.uniform(-3, 3, size=1000000).astype(np.float32)\n",
        "mean = np.float32(0.0)\n",
        "sigma = np.float32(1.0)"
      ],
      "execution_count": 0,
      "outputs": []
    },
    {
      "cell_type": "code",
      "metadata": {
        "id": "yZdIMOtpQBPk",
        "colab_type": "code",
        "outputId": "4a46cf52-f215-4be0-83a1-10cbb6e6f1c0",
        "colab": {
          "base_uri": "https://localhost:8080/",
          "height": 34
        }
      },
      "source": [
        "# Vamos a usar scipy para realizar el mismo cálculo pero en la CPU y comparánlo con la GPU\n",
        "import scipy.stats \n",
        "\n",
        "norm_pdf = scipy.stats.norm\n",
        "\n",
        "%timeit norm_pdf.pdf(x, loc=mean, scale=sigma)  # CPU function"
      ],
      "execution_count": 0,
      "outputs": [
        {
          "output_type": "stream",
          "text": [
            "10 loops, best of 3: 60.8 ms per loop\n"
          ],
          "name": "stdout"
        }
      ]
    },
    {
      "cell_type": "code",
      "metadata": {
        "id": "XpwiTTYptIFI",
        "colab_type": "code",
        "outputId": "27d424b1-1f80-407b-b0ff-51fb099789c1",
        "colab": {
          "base_uri": "https://localhost:8080/",
          "height": 51
        }
      },
      "source": [
        "%timeit gaussian_dens_gpu(x, mean, sigma) # GPU function"
      ],
      "execution_count": 0,
      "outputs": [
        {
          "output_type": "stream",
          "text": [
            "The slowest run took 24.61 times longer than the fastest. This could mean that an intermediate result is being cached.\n",
            "100 loops, best of 3: 6.88 ms per loop\n"
          ],
          "name": "stdout"
        }
      ]
    },
    {
      "cell_type": "markdown",
      "metadata": {
        "id": "41udDlkHRD2N",
        "colab_type": "text"
      },
      "source": [
        "Yeaah!!\n",
        "\n",
        "![Ricky](https://media.giphy.com/media/3oKIPi2ELEdp4XFtVm/giphy.gif)\n",
        "\n",
        "We can even define our function to be executed in the CPU using Numba."
      ]
    },
    {
      "cell_type": "code",
      "metadata": {
        "id": "Qd3K-QRFRqCr",
        "colab_type": "code",
        "outputId": "b52a4681-ccd5-432b-f9aa-68cfc11a0a44",
        "colab": {
          "base_uri": "https://localhost:8080/",
          "height": 34
        }
      },
      "source": [
        "import math \n",
        "\n",
        "sqrt_pi = np.float32((2*math.pi)**0.5)\n",
        "\n",
        "@vectorize\n",
        "def gaussian_dens_cpu(x, mean, sigma):\n",
        "    return math.exp(-0.5 * ((x - mean) / sigma)**2) / (sigma * sqrt_pi)\n",
        "  \n",
        "x = np.random.uniform(-3, 3, size=1000000).astype(np.float32)\n",
        "mean = np.float32(0.0)\n",
        "sigma = np.float32(1.0)\n",
        "\n",
        "%timeit gaussian_dens_cpu(x, mean, sigma) # CPU"
      ],
      "execution_count": 0,
      "outputs": [
        {
          "output_type": "stream",
          "text": [
            "10 loops, best of 3: 23.6 ms per loop\n"
          ],
          "name": "stdout"
        }
      ]
    },
    {
      "cell_type": "markdown",
      "metadata": {
        "id": "7CEyOflDR1fb",
        "colab_type": "text"
      },
      "source": [
        "It is even faster than the function written in Python, but slower than the one executed in the GPU."
      ]
    },
    {
      "cell_type": "markdown",
      "metadata": {
        "id": "sSruAoxYao9c",
        "colab_type": "text"
      },
      "source": [
        "Unfortunately, there are several functions that do not fall within the scope of the definition of ufunc, therefore, to execute functions in the GPU that do not meet that requirement we use `cuda.jit`. We can use \"device functions\" that run on our GPU.\n",
        "\n",
        "__*note*__: \"devices functions\" are functions that can only be called from a kernel or from another \"device\" function."
      ]
    },
    {
      "cell_type": "code",
      "metadata": {
        "id": "Gcvl1EMEanjh",
        "colab_type": "code",
        "colab": {}
      },
      "source": [
        "from numba import cuda\n",
        "\n",
        "# Device function\n",
        "@cuda.jit(device=True)\n",
        "def polar_to_cartesian(rho, theta):\n",
        "    x = rho * math.cos(theta)\n",
        "    y = rho * math.sin(theta)\n",
        "    return x, y\n",
        "\n",
        "@vectorize(['float32(float32, float32, float32, float32)'], target='cuda')\n",
        "def polar_distance(rho1, theta1, rho2, theta2):\n",
        "    x1, y1 = polar_to_cartesian(rho1, theta1)\n",
        "    x2, y2 = polar_to_cartesian(rho2, theta2)\n",
        "    \n",
        "    return ((x1 - x2)**2 + (y1 - y2)**2)**0.5"
      ],
      "execution_count": 0,
      "outputs": []
    },
    {
      "cell_type": "code",
      "metadata": {
        "id": "vlib7BNXbzfI",
        "colab_type": "code",
        "colab": {}
      },
      "source": [
        "n = 1000000\n",
        "rho1 = np.random.uniform(0.5, 1.5, size=n).astype(np.float32)\n",
        "theta1 = np.random.uniform(-np.pi, np.pi, size=n).astype(np.float32)\n",
        "rho2 = np.random.uniform(0.5, 1.5, size=n).astype(np.float32)\n",
        "theta2 = np.random.uniform(-np.pi, np.pi, size=n).astype(np.float32)"
      ],
      "execution_count": 0,
      "outputs": []
    },
    {
      "cell_type": "code",
      "metadata": {
        "id": "ERUppMswb1O_",
        "colab_type": "code",
        "outputId": "4894522b-4501-45d7-f018-799aba512c73",
        "colab": {
          "base_uri": "https://localhost:8080/",
          "height": 51
        }
      },
      "source": [
        "%timeit polar_distance(rho1, theta1, rho2, theta2)"
      ],
      "execution_count": 0,
      "outputs": [
        {
          "output_type": "stream",
          "text": [
            "The slowest run took 23.16 times longer than the fastest. This could mean that an intermediate result is being cached.\n",
            "1 loop, best of 3: 10.2 ms per loop\n"
          ],
          "name": "stdout"
        }
      ]
    },
    {
      "cell_type": "markdown",
      "metadata": {
        "id": "PTeGDL2li_ad",
        "colab_type": "text"
      },
      "source": [
        "## CUDA Kernels"
      ]
    },
    {
      "cell_type": "markdown",
      "metadata": {
        "id": "ajqnUmOyjD3D",
        "colab_type": "text"
      },
      "source": [
        "A kernel function is a GPU function that is called from the code in the CPU. Two points about the Kernerls:\n",
        "\n",
        "1. Kernels cannot explicitly return a value: all results must be written to an array and passed to the function.\n",
        "\n",
        "2. Kernels explicitly declare their threads when called\n",
        "\n",
        "\n",
        "```\n",
        "from numba import cuda\n",
        "\n",
        "@cuda.jit\n",
        "def my_kernel(io_array):\n",
        "    \"\"\"\n",
        "    Code for kernel.\n",
        "    \"\"\"\n",
        "    # code here\n",
        "\n",
        "\n",
        "\n",
        "threadsperblock = 32\n",
        "blockspergrid = (an_array.size + (threadsperblock - 1)) // threadsperblock\n",
        "increment_by_one[blockspergrid, threadsperblock](an_array)\n",
        "```\n",
        "\n"
      ]
    },
    {
      "cell_type": "markdown",
      "metadata": {
        "id": "3bhA4EF1r_92",
        "colab_type": "text"
      },
      "source": [
        "### To be continue..."
      ]
    },
    {
      "cell_type": "code",
      "metadata": {
        "id": "20WCiVpQEXTK",
        "colab_type": "code",
        "colab": {}
      },
      "source": [
        ""
      ],
      "execution_count": 0,
      "outputs": []
    }
  ]
}